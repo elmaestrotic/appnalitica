{
 "cells": [
  {
   "cell_type": "code",
   "execution_count": 30,
   "id": "618d8fb0",
   "metadata": {},
   "outputs": [
    {
     "name": "stdout",
     "output_type": "stream",
     "text": [
      "15\n"
     ]
    }
   ],
   "source": [
    "def main():\n",
    "    x = 5\n",
    "    y = x + 5\n",
    "    print(y+5)\n",
    "\n",
    "main()"
   ]
  },
  {
   "cell_type": "code",
   "execution_count": 32,
   "id": "f645bde4",
   "metadata": {},
   "outputs": [
    {
     "name": "stdout",
     "output_type": "stream",
     "text": [
      "  2           0 LOAD_CONST               1 (5)\n",
      "              2 STORE_FAST               2 (x)\n",
      "\n",
      "  3           4 LOAD_FAST                2 (x)\n",
      "              6 LOAD_CONST               1 (5)\n",
      "              8 BINARY_ADD\n",
      "             10 STORE_FAST               3 (y)\n",
      "\n",
      "  4          12 LOAD_GLOBAL              0 (print)\n",
      "             14 LOAD_FAST                3 (y)\n",
      "             16 LOAD_CONST               1 (5)\n",
      "             18 BINARY_ADD\n",
      "             20 CALL_FUNCTION            1\n",
      "             22 POP_TOP\n",
      "             24 LOAD_CONST               0 (None)\n",
      "             26 RETURN_VALUE\n"
     ]
    }
   ],
   "source": [
    "import dis\n",
    "dis.dis(sumar)"
   ]
  }
 ],
 "metadata": {
  "kernelspec": {
   "display_name": "Python 3 (ipykernel)",
   "language": "python",
   "name": "python3"
  },
  "language_info": {
   "codemirror_mode": {
    "name": "ipython",
    "version": 3
   },
   "file_extension": ".py",
   "mimetype": "text/x-python",
   "name": "python",
   "nbconvert_exporter": "python",
   "pygments_lexer": "ipython3",
   "version": "3.9.5"
  }
 },
 "nbformat": 4,
 "nbformat_minor": 5
}
